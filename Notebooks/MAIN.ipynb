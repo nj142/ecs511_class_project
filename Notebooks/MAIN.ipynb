# ------------------------------------------------ #
#                  IMPORT FUNCTIONS                #
# ------------------------------------------------ #

import os
import sys
import datetime

# Get the project root directory (going up one level from Notebooks)
project_root = os.path.dirname(os.getcwd())

# Add the Scripts directory to Python path so we can import modules
scripts_dir = os.path.join(project_root, 'Scripts')
if scripts_dir not in sys.path:
    sys.path.append(scripts_dir)


# ------------------------------------------------ #
#                  PARAMETERS                      #
# ------------------------------------------------ #
from download_precip_alaska import ReturnPrecipitation

# Generate a list of years from 1980 to 2023 - select years
years_of_data = list(range(1980, 2024))


# ------------------------------------------------ #
#                  MAIN CODE                      #
# ------------------------------------------------ #

# Pull in ENSO data as dictionary of Datetime:Values on a MONTHLY scale from all years of data
# Format of this dictionary should go from March of year-1 to March of year (e.g. year 2000 is dictionary M1999-M2000) for each year
precipitation_arrays = ReturnPrecipitation(years_of_data, alaska_shapefile_path)
lake_arrays = ReturnLakeMap(years_of_data, alaska_shapefile_path)
